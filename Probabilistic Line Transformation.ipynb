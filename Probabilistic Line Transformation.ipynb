{
 "cells": [
  {
   "cell_type": "code",
   "execution_count": 18,
   "metadata": {},
   "outputs": [],
   "source": [
    "import cv2\n",
    "import math\n",
    "import numpy as np\n",
    "import imutils\n",
    "from IPython.display import Image"
   ]
  },
  {
   "cell_type": "code",
   "execution_count": 19,
   "metadata": {},
   "outputs": [],
   "source": [
    "def detectOrientation(image):\n",
    "    # convert the image to grayscale and flip the foreground\n",
    "    # and background to ensure foreground is now \"white\" and\n",
    "    # the background is \"black\"\n",
    "    gray = cv2.cvtColor(image, cv2.COLOR_BGR2GRAY)\n",
    "    gray = cv2.bitwise_not(gray)\n",
    "\n",
    "    # threshold the image, setting all foreground pixels to\n",
    "    # 255 and all background pixels to 0\n",
    "    thresh = cv2.threshold(gray, 0, 255,\n",
    "        cv2.THRESH_BINARY | cv2.THRESH_OTSU)[1]\n",
    "    \n",
    "    # grab the (x, y) coordinates of all pixel values that\n",
    "    # are greater than zero, then use these coordinates to\n",
    "    # compute a rotated bounding box that contains all\n",
    "    # coordinates\n",
    "    coords = np.column_stack(np.where(thresh > 0))\n",
    "    angle = cv2.minAreaRect(coords)[-1]\n",
    "\n",
    "    # the `cv2.minAreaRect` function returns values in the\n",
    "    # range [-90, 0); as the rectangle rotates clockwise the\n",
    "    # returned angle trends to 0 -- in this special case we\n",
    "    # need to add 90 degrees to the angle\n",
    "    if angle < -45:\n",
    "        angle = -(90 + angle)\n",
    "\n",
    "    # otherwise, just take the inverse of the angle to make\n",
    "    # it positive\n",
    "    else:\n",
    "        angle = -angle\n",
    "    \n",
    "    # rotate the image to deskew it\n",
    "    (h, w) = image.shape[:2]\n",
    "    center = (w // 2, h // 2)\n",
    "    M = cv2.getRotationMatrix2D(center, angle, 1.0)\n",
    "    rotated = cv2.warpAffine(image, M, (w, h),\n",
    "        flags=cv2.INTER_CUBIC, borderMode=cv2.BORDER_REPLICATE)\n",
    "    return (angle, rotated)"
   ]
  },
  {
   "cell_type": "code",
   "execution_count": 24,
   "metadata": {},
   "outputs": [
    {
     "data": {
      "text/plain": [
       "True"
      ]
     },
     "execution_count": 24,
     "metadata": {},
     "output_type": "execute_result"
    }
   ],
   "source": [
    "inputPath = 'files/form2.jpg'\n",
    "\n",
    "# Probabilistic Line Transformation.\n",
    "\n",
    "img = cv2.imread(inputPath)\n",
    "img = imutils.rotate(img, 0)\n",
    "\n",
    "gray = cv2.cvtColor(img,cv2.COLOR_BGR2GRAY)\n",
    "edges = cv2.Canny(gray,50,200,apertureSize = 3)\n",
    "minLineLength = 10\n",
    "maxLineGap = 100\n",
    "lines = cv2.HoughLinesP(edges,1,np.pi/360,100,minLineLength,maxLineGap)\n",
    "if lines is not None:\n",
    "    for line in lines:\n",
    "        for x1,y1,x2,y2 in line:\n",
    "            cv2.line(img,(x1,y1),(x2,y2),(0,255,0),2,cv2.LINE_AA)\n",
    "\n",
    "outputPath = inputPath.replace('.jpg', '_output_ProbabilisticLineTransformation.jpg')\n",
    "cv2.imwrite(outputPath, img)"
   ]
  },
  {
   "cell_type": "code",
   "execution_count": null,
   "metadata": {},
   "outputs": [],
   "source": [
    "print(detectOrientation(img)[0])"
   ]
  },
  {
   "cell_type": "code",
   "execution_count": null,
   "metadata": {},
   "outputs": [],
   "source": []
  }
 ],
 "metadata": {
  "kernelspec": {
   "display_name": "Python 3",
   "language": "python",
   "name": "python3"
  },
  "language_info": {
   "codemirror_mode": {
    "name": "ipython",
    "version": 3
   },
   "file_extension": ".py",
   "mimetype": "text/x-python",
   "name": "python",
   "nbconvert_exporter": "python",
   "pygments_lexer": "ipython3",
   "version": "3.6.3"
  }
 },
 "nbformat": 4,
 "nbformat_minor": 2
}
