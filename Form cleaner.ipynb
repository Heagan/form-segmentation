{
 "cells": [
  {
   "cell_type": "markdown",
   "metadata": {},
   "source": [
    "# Form cleaner"
   ]
  },
  {
   "cell_type": "code",
   "execution_count": null,
   "metadata": {},
   "outputs": [],
   "source": [
    "import cv2\n",
    "import math\n",
    "import numpy as np\n",
    "import imutils\n",
    "import subprocess\n",
    "from IPython.display import Image\n",
    "\n",
    "inputFile = \"form11.png\"\n",
    "Image(filename='files/' + inputFile)"
   ]
  },
  {
   "cell_type": "markdown",
   "metadata": {},
   "source": [
    "## Detect scanned page (if applicable)\n",
    "- Detect edges\n",
    "- Use the edges in the image to find the contour (outline) representing the piece of paper being scanned.\n",
    "- Apply a perspective transform to obtain the top-down view of the document.\n",
    "\n",
    "Objective:\n",
    "- We want to work on the scanned page (if applicable) or the page itself.\n",
    "\n",
    "See:\n",
    "- http://bretahajek.com/2017/01/scanning-documents-photos-opencv/\n",
    "- https://www.pyimagesearch.com/2014/09/01/build-kick-ass-mobile-document-scanner-just-5-minutes/\n",
    "- https://github.com/Breta01/handwriting-ocr/blob/master/PageDetection.ipynb"
   ]
  },
  {
   "cell_type": "code",
   "execution_count": null,
   "metadata": {},
   "outputs": [],
   "source": [
    "img = cv2.imread(\"files/\" + inputFile)\n",
    "\n",
    "# TODO\n",
    "\n",
    "cv2.imwrite(\"files/result-0.jpg\", img)\n",
    "Image(filename='files/result-0.jpg')"
   ]
  },
  {
   "cell_type": "markdown",
   "metadata": {},
   "source": [
    "## Remove form / table structure\n",
    "\n",
    "Objective:\n",
    "- Remove horizontal and vertical lines\n",
    "- Make it easier to detect text (remove unnecessary elements on page)"
   ]
  },
  {
   "cell_type": "code",
   "execution_count": null,
   "metadata": {},
   "outputs": [],
   "source": [
    "options = \"files/result-0.jpg \"\n",
    "options += \"-type \"\n",
    "options += \"Grayscale \"\n",
    "options += \"-negate \"\n",
    "options += \"-define morphology:compose=darken \"\n",
    "options += \"-morphology Thinning 'Rectangle:15x1+0+0<' \"\n",
    "options += \"-negate \"\n",
    "options += \"files/result-1.jpg\"\n",
    "\n",
    "# Make sure to install imagemagick, otherwise the following line will fail\n",
    "subprocess.getoutput(\"convert \" + options)\n",
    "Image(filename='files/result-1.jpg')"
   ]
  },
  {
   "cell_type": "markdown",
   "metadata": {},
   "source": [
    "## Remove noise and make text clearer\n",
    "\n",
    "Objectives:\n",
    "- Make text clearer\n",
    "- Apply OSTU threshold to clean up the result"
   ]
  },
  {
   "cell_type": "code",
   "execution_count": null,
   "metadata": {},
   "outputs": [],
   "source": [
    "img = cv2.imread(\"files/result-1.jpg\")\n",
    "gray = cv2.cvtColor(img, cv2.COLOR_BGR2GRAY)\n",
    "\n",
    "gray = cv2.blur(gray,(1,1))\n",
    "gray = cv2.threshold(gray, 0, 255, cv2.THRESH_BINARY | cv2.THRESH_OTSU)[1]\n",
    "\n",
    "cv2.imwrite(\"files/result-2.jpg\", gray)\n",
    "Image(filename='files/result-2.jpg')"
   ]
  },
  {
   "cell_type": "markdown",
   "metadata": {},
   "source": [
    "## Blur text\n",
    "\n",
    "Objective:\n",
    "- Merge characters together to help identify groups of words and detect lines"
   ]
  },
  {
   "cell_type": "code",
   "execution_count": null,
   "metadata": {},
   "outputs": [],
   "source": [
    "img = cv2.imread(\"files/result-2.jpg\")\n",
    "gray = cv2.cvtColor(img, cv2.COLOR_BGR2GRAY)\n",
    "\n",
    "gray = cv2.blur(gray,(1,4))\n",
    "for i in range(5):\n",
    "    gray = cv2.blur(gray,(10,1))\n",
    "    gray = cv2.threshold(gray, 0, 255, cv2.THRESH_BINARY | cv2.THRESH_OTSU)[1]\n",
    "\n",
    "cv2.imwrite(\"files/result-3.jpg\", gray)\n",
    "Image(filename='files/result-3.jpg')"
   ]
  },
  {
   "cell_type": "markdown",
   "metadata": {},
   "source": [
    "## Merge blur img + orig img\n",
    "\n",
    "Objective:\n",
    "- Create a mask based on original img and blur img"
   ]
  },
  {
   "cell_type": "code",
   "execution_count": null,
   "metadata": {
    "scrolled": false
   },
   "outputs": [],
   "source": [
    "img = cv2.imread(\"files/result-3.jpg\")\n",
    "img_with_text = cv2.imread(\"files/result-2.jpg\")\n",
    "\n",
    "img_with_text = cv2.bitwise_and(img_with_text, img)\n",
    "\n",
    "cv2.imwrite(\"files/result-4.jpg\", img_with_text)\n",
    "Image(filename='files/result-4.jpg')"
   ]
  },
  {
   "cell_type": "markdown",
   "metadata": {},
   "source": [
    "## Shape detection and extraction\n",
    "\n",
    "Objective:\n",
    "- Extract text line\n",
    "\n",
    "Possibilities:\n",
    "- MSER\n",
    "- Threshold (OTSU) and findContours\n",
    "\n",
    "See:\n",
    "- http://opencvpython.blogspot.ca/2012/06/hi-this-article-is-tutorial-which-try.html"
   ]
  },
  {
   "cell_type": "code",
   "execution_count": null,
   "metadata": {},
   "outputs": [],
   "source": [
    "# TODO"
   ]
  },
  {
   "cell_type": "markdown",
   "metadata": {},
   "source": [
    "## OCR and handwriting recognition\n",
    "\n",
    "See:\n",
    "- Tesseract 4\n",
    "- https://github.com/Breta01/handwriting-ocr (Handwriting recognition)"
   ]
  },
  {
   "cell_type": "code",
   "execution_count": null,
   "metadata": {},
   "outputs": [],
   "source": [
    "# TODO"
   ]
  }
 ],
 "metadata": {
  "kernelspec": {
   "display_name": "Python 3",
   "language": "python",
   "name": "python3"
  },
  "language_info": {
   "codemirror_mode": {
    "name": "ipython",
    "version": 3
   },
   "file_extension": ".py",
   "mimetype": "text/x-python",
   "name": "python",
   "nbconvert_exporter": "python",
   "pygments_lexer": "ipython3",
   "version": "3.6.3"
  }
 },
 "nbformat": 4,
 "nbformat_minor": 2
}
