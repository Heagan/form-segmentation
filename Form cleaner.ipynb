{
 "cells": [
  {
   "cell_type": "code",
   "execution_count": null,
   "metadata": {},
   "outputs": [],
   "source": [
    "import cv2\n",
    "import math\n",
    "import numpy as np\n",
    "import imutils\n",
    "import subprocess\n",
    "from IPython.display import Image\n",
    "\n",
    "inputFile = \"form1.jpg\"\n",
    "\n",
    "Image(filename='files/' + inputFile)"
   ]
  },
  {
   "cell_type": "code",
   "execution_count": null,
   "metadata": {},
   "outputs": [],
   "source": [
    "def detectOrientation(image):\n",
    "    # convert the image to grayscale and flip the foreground\n",
    "    # and background to ensure foreground is now \"white\" and\n",
    "    # the background is \"black\"\n",
    "    #gray = cv2.cvtColor(image, cv2.COLOR_BGR2GRAY)\n",
    "    gray = cv2.bitwise_not(image)\n",
    "\n",
    "    # threshold the image, setting all foreground pixels to\n",
    "    # 255 and all background pixels to 0\n",
    "    thresh = cv2.threshold(gray, 0, 255,\n",
    "        cv2.THRESH_BINARY | cv2.THRESH_OTSU)[1]\n",
    "    \n",
    "    # grab the (x, y) coordinates of all pixel values that\n",
    "    # are greater than zero, then use these coordinates to\n",
    "    # compute a rotated bounding box that contains all\n",
    "    # coordinates\n",
    "    coords = np.column_stack(np.where(thresh > 0))\n",
    "    angle = cv2.minAreaRect(coords)[-1]\n",
    "\n",
    "    # the `cv2.minAreaRect` function returns values in the\n",
    "    # range [-90, 0); as the rectangle rotates clockwise the\n",
    "    # returned angle trends to 0 -- in this special case we\n",
    "    # need to add 90 degrees to the angle\n",
    "    if angle < -45:\n",
    "        angle = -(90 + angle)\n",
    "\n",
    "    # otherwise, just take the inverse of the angle to make\n",
    "    # it positive\n",
    "    else:\n",
    "        angle = -angle\n",
    "    \n",
    "    # rotate the image to deskew it\n",
    "    (h, w) = image.shape[:2]\n",
    "    center = (w // 2, h // 2)\n",
    "    M = cv2.getRotationMatrix2D(center, angle, 1.0)\n",
    "    rotated = cv2.warpAffine(image, M, (w, h),\n",
    "        flags=cv2.INTER_CUBIC, borderMode=cv2.BORDER_REPLICATE)\n",
    "    return (angle, rotated)\n",
    "\n",
    "img = cv2.imread(\"files/\" + inputFile)\n",
    "#gray = cv2.cvtColor(img, cv2.COLOR_BGR2GRAY)\n",
    "\n",
    "#gray = cv2.adaptiveThreshold(gray,255,cv2.ADAPTIVE_THRESH_GAUSSIAN_C, cv2.THRESH_BINARY,11,5)\n",
    "#gray = cv2.adaptiveThreshold(gray,255,cv2.ADAPTIVE_THRESH_GAUSSIAN_C, cv2.THRESH_BINARY,11,5)\n",
    "\n",
    "#d = detectOrientation(gray)\n",
    "\n",
    "cv2.imwrite(\"files/result-0.jpg\", img)\n",
    "Image(filename='files/result-0.jpg')\n",
    "\n",
    "#options = \"files/\"+inputFile+\" \"\n",
    "#options += \"-auto-orient \"\n",
    "#options += \"files/result-0.jpg\"\n",
    "\n",
    "# Make sure to install imagemagick, otherwise the following line will fail\n",
    "#subprocess.getoutput(\"convert \" + options)\n",
    "#Image(filename='files/result-0.jpg')"
   ]
  },
  {
   "cell_type": "code",
   "execution_count": null,
   "metadata": {},
   "outputs": [],
   "source": []
  },
  {
   "cell_type": "code",
   "execution_count": null,
   "metadata": {},
   "outputs": [],
   "source": [
    "options = \"files/result-0.jpg \"\n",
    "options += \"-type \"\n",
    "options += \"Grayscale \"\n",
    "options += \"-negate \"\n",
    "options += \"-define morphology:compose=darken \"\n",
    "options += \"-morphology Thinning 'Rectangle:25x1+0+0<' \"\n",
    "options += \"-negate \"\n",
    "options += \"files/result-1.jpg\"\n",
    "\n",
    "# Make sure to install imagemagick, otherwise the following line will fail\n",
    "subprocess.getoutput(\"convert \" + options)\n",
    "Image(filename='files/result-1.jpg')"
   ]
  },
  {
   "cell_type": "code",
   "execution_count": null,
   "metadata": {},
   "outputs": [],
   "source": [
    "img = cv2.imread(\"files/result-1.jpg\")\n",
    "gray = cv2.cvtColor(img, cv2.COLOR_BGR2GRAY)\n",
    "\n",
    "gray = cv2.threshold(gray, 0, 255, cv2.THRESH_BINARY | cv2.THRESH_OTSU)[1]\n",
    "\n",
    "cv2.imwrite(\"files/result-2.jpg\", gray)\n",
    "Image(filename='files/result-2.jpg')"
   ]
  },
  {
   "cell_type": "code",
   "execution_count": null,
   "metadata": {},
   "outputs": [],
   "source": [
    "img = cv2.imread(\"files/result-2.jpg\")\n",
    "gray = cv2.cvtColor(img, cv2.COLOR_BGR2GRAY)\n",
    "\n",
    "gray = cv2.blur(gray,(1,4))\n",
    "for i in range(5):\n",
    "    gray = cv2.blur(gray,(9,1))\n",
    "    gray = cv2.threshold(gray, 0, 255, cv2.THRESH_BINARY | cv2.THRESH_OTSU)[1]\n",
    "\n",
    "cv2.imwrite(\"files/result-3.jpg\", gray)\n",
    "Image(filename='files/result-3.jpg')"
   ]
  },
  {
   "cell_type": "code",
   "execution_count": null,
   "metadata": {},
   "outputs": [],
   "source": []
  },
  {
   "cell_type": "code",
   "execution_count": null,
   "metadata": {
    "scrolled": false
   },
   "outputs": [],
   "source": [
    "img = cv2.imread(\"files/result-3.jpg\")\n",
    "img_with_text = cv2.imread(\"files/result-2.jpg\")\n",
    "\n",
    "#mser = cv2.MSER_create()\n",
    "#regions, _ = mser.detectRegions(img)\n",
    "#for p in regions:\n",
    "#    xmax, ymax = np.amax(p, axis=0)\n",
    "#    xmin, ymin = np.amin(p, axis=0)\n",
    "#    cv2.rectangle(img_with_text, (xmin,ymax), (xmax,ymin), (0, 0, 0), 1)\n",
    "img_with_text = cv2.bitwise_and(img_with_text, img)\n",
    "#img_with_text = cv2.bitwise_not(img_with_text)\n",
    "\n",
    "cv2.imwrite(\"files/result-4.jpg\", img_with_text)\n",
    "Image(filename='files/result-4.jpg')"
   ]
  },
  {
   "cell_type": "code",
   "execution_count": null,
   "metadata": {},
   "outputs": [],
   "source": [
    "# Read image\n",
    "#img = cv2.imread(\"files/form2-result-4.jpg\")\n",
    "#img_with_text = cv2.imread(\"files/form2-result-2.jpg\")\n",
    "\n",
    "#imgray = cv2.cvtColor(img,cv2.COLOR_BGR2GRAY)\n",
    "#ret,thresh = cv2.threshold(imgray,127,255,0)\n",
    "#im2, contours, hierarchy = cv2.findContours(thresh,cv2.RETR_TREE,cv2.CHAIN_APPROX_SIMPLE)\n",
    "\n",
    "#for h,cnt in enumerate(contours):\n",
    "#    mask = np.zeros(imgray.shape,np.uint8)\n",
    "#    cv2.drawContours(mask,[cnt],-1,(255,255,255),-1)\n",
    "#    mask = cv2.bitwise_not(mask)\n",
    "    \n",
    "    #x,y,w,h = cv2.boundingRect(cnt)\n",
    "    #cv2.rectangle(img,(x,y),(x+w,y+h),(255,255,255),-1)\n",
    "\n",
    "#cv2.imwrite(\"files/form2-result-5.jpg\", mask)\n",
    "#Image(filename='files/form2-result-5.jpg')"
   ]
  },
  {
   "cell_type": "code",
   "execution_count": null,
   "metadata": {},
   "outputs": [],
   "source": []
  }
 ],
 "metadata": {
  "kernelspec": {
   "display_name": "Python 3",
   "language": "python",
   "name": "python3"
  },
  "language_info": {
   "codemirror_mode": {
    "name": "ipython",
    "version": 3
   },
   "file_extension": ".py",
   "mimetype": "text/x-python",
   "name": "python",
   "nbconvert_exporter": "python",
   "pygments_lexer": "ipython3",
   "version": "3.6.3"
  }
 },
 "nbformat": 4,
 "nbformat_minor": 2
}
